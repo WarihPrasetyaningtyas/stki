{
 "cells": [
  {
   "cell_type": "code",
   "execution_count": 1,
   "id": "a4a61f06-2064-4ab2-a1aa-f4cb07a59389",
   "metadata": {},
   "outputs": [],
   "source": [
    "import pandas as pd\n",
    "import numpy as np"
   ]
  },
  {
   "cell_type": "code",
   "execution_count": 2,
   "id": "827c0c4f-1842-48cb-988f-eba023e6390c",
   "metadata": {},
   "outputs": [],
   "source": [
    "dataset = pd.read_csv('clean_dataset_stem.csv', sep=';')"
   ]
  },
  {
   "cell_type": "code",
   "execution_count": 5,
   "id": "41735f2b-5c51-4f12-9f2c-c9514e063a4f",
   "metadata": {},
   "outputs": [
    {
     "data": {
      "text/plain": [
       "(902, 10)"
      ]
     },
     "execution_count": 5,
     "metadata": {},
     "output_type": "execute_result"
    }
   ],
   "source": [
    "dataset.shape #menampilkan jumlah baris dan kolom"
   ]
  },
  {
   "cell_type": "code",
   "execution_count": 6,
   "id": "17872702-248d-4ef7-bead-e4866bb73199",
   "metadata": {},
   "outputs": [
    {
     "data": {
      "text/plain": [
       "Index(['Unnamed: 0.1', 'Unnamed: 0', 'Tweet', 'Sentimen', 'step01', 'tokens',\n",
       "       'final_tokens', 'step02', 'finalText_str', 'ProcessedText'],\n",
       "      dtype='object')"
      ]
     },
     "execution_count": 6,
     "metadata": {},
     "output_type": "execute_result"
    }
   ],
   "source": [
    "#menampilkan nama-nama kolom\n",
    "dataset.columns"
   ]
  },
  {
   "cell_type": "code",
   "execution_count": 7,
   "id": "e43b8abe-17ce-428f-b536-29aba8ca9e9a",
   "metadata": {},
   "outputs": [
    {
     "data": {
      "text/html": [
       "<div>\n",
       "<style scoped>\n",
       "    .dataframe tbody tr th:only-of-type {\n",
       "        vertical-align: middle;\n",
       "    }\n",
       "\n",
       "    .dataframe tbody tr th {\n",
       "        vertical-align: top;\n",
       "    }\n",
       "\n",
       "    .dataframe thead th {\n",
       "        text-align: right;\n",
       "    }\n",
       "</style>\n",
       "<table border=\"1\" class=\"dataframe\">\n",
       "  <thead>\n",
       "    <tr style=\"text-align: right;\">\n",
       "      <th></th>\n",
       "      <th>Unnamed: 0.1</th>\n",
       "      <th>Unnamed: 0</th>\n",
       "      <th>Tweet</th>\n",
       "      <th>Sentimen</th>\n",
       "      <th>step01</th>\n",
       "      <th>tokens</th>\n",
       "      <th>final_tokens</th>\n",
       "      <th>step02</th>\n",
       "      <th>finalText_str</th>\n",
       "      <th>ProcessedText</th>\n",
       "    </tr>\n",
       "  </thead>\n",
       "  <tbody>\n",
       "    <tr>\n",
       "      <th>0</th>\n",
       "      <td>0</td>\n",
       "      <td>0</td>\n",
       "      <td>Cegah mata rantai Covid-19,mari kita dirumah s...</td>\n",
       "      <td>1.0</td>\n",
       "      <td>cegah mata rantai covid   mari kita dirumah sa...</td>\n",
       "      <td>['cegah', 'mata', 'rantai', 'covid', 'mari', '...</td>\n",
       "      <td>['cegah', 'mata', 'rantai', 'covid', 'mari', '...</td>\n",
       "      <td>cegah mata rantai covid mari kita dirumah saja...</td>\n",
       "      <td>cegah mata rantai covid mari kita dirumah saja...</td>\n",
       "      <td>cegah mata rantai covid kita rumah hingga hari...</td>\n",
       "    </tr>\n",
       "    <tr>\n",
       "      <th>1</th>\n",
       "      <td>1</td>\n",
       "      <td>1</td>\n",
       "      <td>aku mohon yaAllah semoga wabah covid-19 menghi...</td>\n",
       "      <td>1.0</td>\n",
       "      <td>aku mohon yaallah semoga wabah covid   menghil...</td>\n",
       "      <td>['aku', 'mohon', 'yaallah', 'semoga', 'wabah',...</td>\n",
       "      <td>['aku', 'mohon', 'yaallah', 'semoga', 'wabah',...</td>\n",
       "      <td>aku mohon yaallah semoga wabah covid menghilan...</td>\n",
       "      <td>aku mohon yaallah semoga wabah covid menghilan...</td>\n",
       "      <td>aku mohon yaallah moga wabah covid hilang rama...</td>\n",
       "    </tr>\n",
       "    <tr>\n",
       "      <th>2</th>\n",
       "      <td>2</td>\n",
       "      <td>2</td>\n",
       "      <td>Pemprov Papua Naikkan Status Jadi Tanggap Daru...</td>\n",
       "      <td>1.0</td>\n",
       "      <td>pemprov papua naikkan status jadi tanggap daru...</td>\n",
       "      <td>['pemprov', 'papua', 'naikkan', 'status', 'jad...</td>\n",
       "      <td>['pemprov', 'papua', 'naikkan', 'status', 'jad...</td>\n",
       "      <td>pemprov papua naikkan status jadi tanggap daru...</td>\n",
       "      <td>pemprov papua naikkan status jadi tanggap daru...</td>\n",
       "      <td>pemprov papua naik status jadi tanggap darurat...</td>\n",
       "    </tr>\n",
       "    <tr>\n",
       "      <th>3</th>\n",
       "      <td>3</td>\n",
       "      <td>3</td>\n",
       "      <td>Covid belum nyampe prigen mbak hmm hoax</td>\n",
       "      <td>0.0</td>\n",
       "      <td>covid belum nyampe prigen mbak hmm hoax</td>\n",
       "      <td>['covid', 'belum', 'nyampe', 'prigen', 'mbak',...</td>\n",
       "      <td>['covid', 'belum', 'nyampe', 'prigen', 'mbak',...</td>\n",
       "      <td>covid belum nyampe prigen mbak hmm hoax</td>\n",
       "      <td>covid belum nyampe prigen mbak hmm hoax</td>\n",
       "      <td>covid nyampe prigen mbak hmm hoax</td>\n",
       "    </tr>\n",
       "    <tr>\n",
       "      <th>4</th>\n",
       "      <td>4</td>\n",
       "      <td>4</td>\n",
       "      <td>Nyuruh orang pintar, lu aja Togog. Itu kerumun...</td>\n",
       "      <td>-1.0</td>\n",
       "      <td>nyuruh orang pintar lu aja togog itu kerumunan...</td>\n",
       "      <td>['nyuruh', 'orang', 'pintar', 'lu', 'aja', 'to...</td>\n",
       "      <td>['nyuruh', 'orang', 'pintar', 'lu', 'aja', 'to...</td>\n",
       "      <td>nyuruh orang pintar lu aja togog itu kerumunan...</td>\n",
       "      <td>nyuruh orang pintar lu aja togog itu kerumunan...</td>\n",
       "      <td>nyuruh orang pintar lu aja togog kerumun orang...</td>\n",
       "    </tr>\n",
       "    <tr>\n",
       "      <th>5</th>\n",
       "      <td>5</td>\n",
       "      <td>5</td>\n",
       "      <td>Pikir2 balik byk mnde plk nk setelkn lepas covid.</td>\n",
       "      <td>0.0</td>\n",
       "      <td>pikir balik byk mnde plk nk setelkn lepas covid</td>\n",
       "      <td>['pikir', 'balik', 'byk', 'mnde', 'plk', 'nk',...</td>\n",
       "      <td>['pikir', 'balik', 'byk', 'mnde', 'plk', 'nk',...</td>\n",
       "      <td>pikir balik byk mnde plk nk setelkn lepas covid</td>\n",
       "      <td>pikir balik byk mnde plk nk setelkn lepas covid</td>\n",
       "      <td>pikir balik byk mnde plk nk setelkn lepas covid</td>\n",
       "    </tr>\n",
       "    <tr>\n",
       "      <th>6</th>\n",
       "      <td>6</td>\n",
       "      <td>6</td>\n",
       "      <td>Selamat pagi, hari jum'at. Jum'at keempat di k...</td>\n",
       "      <td>1.0</td>\n",
       "      <td>selamat pagi hari jumat jumat keempat di kala ...</td>\n",
       "      <td>['selamat', 'pagi', 'hari', 'jumat', 'jumat', ...</td>\n",
       "      <td>['selamat', 'pagi', 'hari', 'jumat', 'jumat', ...</td>\n",
       "      <td>selamat pagi hari jumat jumat keempat di kala ...</td>\n",
       "      <td>selamat pagi hari jumat jumat keempat di kala ...</td>\n",
       "      <td>selamat pagi hari jumat jumat empat kala pande...</td>\n",
       "    </tr>\n",
       "    <tr>\n",
       "      <th>7</th>\n",
       "      <td>7</td>\n",
       "      <td>7</td>\n",
       "      <td>Hikmah di balik musibah covid-19, smg para pej...</td>\n",
       "      <td>1.0</td>\n",
       "      <td>hikmah di balik musibah covid   smg para pejab...</td>\n",
       "      <td>['hikmah', 'di', 'balik', 'musibah', 'covid', ...</td>\n",
       "      <td>['hikmah', 'di', 'balik', 'musibah', 'covid', ...</td>\n",
       "      <td>hikmah di balik musibah covid smg para pejabat...</td>\n",
       "      <td>hikmah di balik musibah covid smg para pejabat...</td>\n",
       "      <td>hikmah balik musibah covid smg jabat perintah ...</td>\n",
       "    </tr>\n",
       "    <tr>\n",
       "      <th>8</th>\n",
       "      <td>8</td>\n",
       "      <td>8</td>\n",
       "      <td>Cegah covid-19 beserta jajaran Polsek Kuranji ...</td>\n",
       "      <td>1.0</td>\n",
       "      <td>cegah covid   beserta jajaran polsek kuranji m...</td>\n",
       "      <td>['cegah', 'covid', 'beserta', 'jajaran', 'pols...</td>\n",
       "      <td>['cegah', 'covid', 'beserta', 'jajaran', 'pols...</td>\n",
       "      <td>cegah covid beserta jajaran polsek kuranji mel...</td>\n",
       "      <td>cegah covid beserta jajaran polsek kuranji mel...</td>\n",
       "      <td>cegah covid serta jajar polsek ranji laku aksi...</td>\n",
       "    </tr>\n",
       "    <tr>\n",
       "      <th>9</th>\n",
       "      <td>9</td>\n",
       "      <td>9</td>\n",
       "      <td>Ya Allah kami memohon pada mu perkenankanlah d...</td>\n",
       "      <td>1.0</td>\n",
       "      <td>ya allah kami memohon pada mu perkenankanlah d...</td>\n",
       "      <td>['ya', 'allah', 'kami', 'memohon', 'pada', 'mu...</td>\n",
       "      <td>['ya', 'allah', 'kami', 'memohon', 'pada', 'mu...</td>\n",
       "      <td>ya allah kami memohon pada mu perkenankanlah d...</td>\n",
       "      <td>ya allah kami memohon pada mu perkenankanlah d...</td>\n",
       "      <td>allah mohon mu kenan doa doa rana sungguh engk...</td>\n",
       "    </tr>\n",
       "  </tbody>\n",
       "</table>\n",
       "</div>"
      ],
      "text/plain": [
       "   Unnamed: 0.1  Unnamed: 0  \\\n",
       "0             0           0   \n",
       "1             1           1   \n",
       "2             2           2   \n",
       "3             3           3   \n",
       "4             4           4   \n",
       "5             5           5   \n",
       "6             6           6   \n",
       "7             7           7   \n",
       "8             8           8   \n",
       "9             9           9   \n",
       "\n",
       "                                               Tweet  Sentimen  \\\n",
       "0  Cegah mata rantai Covid-19,mari kita dirumah s...       1.0   \n",
       "1  aku mohon yaAllah semoga wabah covid-19 menghi...       1.0   \n",
       "2  Pemprov Papua Naikkan Status Jadi Tanggap Daru...       1.0   \n",
       "3            Covid belum nyampe prigen mbak hmm hoax       0.0   \n",
       "4  Nyuruh orang pintar, lu aja Togog. Itu kerumun...      -1.0   \n",
       "5  Pikir2 balik byk mnde plk nk setelkn lepas covid.       0.0   \n",
       "6  Selamat pagi, hari jum'at. Jum'at keempat di k...       1.0   \n",
       "7  Hikmah di balik musibah covid-19, smg para pej...       1.0   \n",
       "8  Cegah covid-19 beserta jajaran Polsek Kuranji ...       1.0   \n",
       "9  Ya Allah kami memohon pada mu perkenankanlah d...       1.0   \n",
       "\n",
       "                                              step01  \\\n",
       "0  cegah mata rantai covid   mari kita dirumah sa...   \n",
       "1  aku mohon yaallah semoga wabah covid   menghil...   \n",
       "2  pemprov papua naikkan status jadi tanggap daru...   \n",
       "3            covid belum nyampe prigen mbak hmm hoax   \n",
       "4  nyuruh orang pintar lu aja togog itu kerumunan...   \n",
       "5    pikir balik byk mnde plk nk setelkn lepas covid   \n",
       "6  selamat pagi hari jumat jumat keempat di kala ...   \n",
       "7  hikmah di balik musibah covid   smg para pejab...   \n",
       "8  cegah covid   beserta jajaran polsek kuranji m...   \n",
       "9  ya allah kami memohon pada mu perkenankanlah d...   \n",
       "\n",
       "                                              tokens  \\\n",
       "0  ['cegah', 'mata', 'rantai', 'covid', 'mari', '...   \n",
       "1  ['aku', 'mohon', 'yaallah', 'semoga', 'wabah',...   \n",
       "2  ['pemprov', 'papua', 'naikkan', 'status', 'jad...   \n",
       "3  ['covid', 'belum', 'nyampe', 'prigen', 'mbak',...   \n",
       "4  ['nyuruh', 'orang', 'pintar', 'lu', 'aja', 'to...   \n",
       "5  ['pikir', 'balik', 'byk', 'mnde', 'plk', 'nk',...   \n",
       "6  ['selamat', 'pagi', 'hari', 'jumat', 'jumat', ...   \n",
       "7  ['hikmah', 'di', 'balik', 'musibah', 'covid', ...   \n",
       "8  ['cegah', 'covid', 'beserta', 'jajaran', 'pols...   \n",
       "9  ['ya', 'allah', 'kami', 'memohon', 'pada', 'mu...   \n",
       "\n",
       "                                        final_tokens  \\\n",
       "0  ['cegah', 'mata', 'rantai', 'covid', 'mari', '...   \n",
       "1  ['aku', 'mohon', 'yaallah', 'semoga', 'wabah',...   \n",
       "2  ['pemprov', 'papua', 'naikkan', 'status', 'jad...   \n",
       "3  ['covid', 'belum', 'nyampe', 'prigen', 'mbak',...   \n",
       "4  ['nyuruh', 'orang', 'pintar', 'lu', 'aja', 'to...   \n",
       "5  ['pikir', 'balik', 'byk', 'mnde', 'plk', 'nk',...   \n",
       "6  ['selamat', 'pagi', 'hari', 'jumat', 'jumat', ...   \n",
       "7  ['hikmah', 'di', 'balik', 'musibah', 'covid', ...   \n",
       "8  ['cegah', 'covid', 'beserta', 'jajaran', 'pols...   \n",
       "9  ['ya', 'allah', 'kami', 'memohon', 'pada', 'mu...   \n",
       "\n",
       "                                              step02  \\\n",
       "0  cegah mata rantai covid mari kita dirumah saja...   \n",
       "1  aku mohon yaallah semoga wabah covid menghilan...   \n",
       "2  pemprov papua naikkan status jadi tanggap daru...   \n",
       "3            covid belum nyampe prigen mbak hmm hoax   \n",
       "4  nyuruh orang pintar lu aja togog itu kerumunan...   \n",
       "5    pikir balik byk mnde plk nk setelkn lepas covid   \n",
       "6  selamat pagi hari jumat jumat keempat di kala ...   \n",
       "7  hikmah di balik musibah covid smg para pejabat...   \n",
       "8  cegah covid beserta jajaran polsek kuranji mel...   \n",
       "9  ya allah kami memohon pada mu perkenankanlah d...   \n",
       "\n",
       "                                       finalText_str  \\\n",
       "0  cegah mata rantai covid mari kita dirumah saja...   \n",
       "1  aku mohon yaallah semoga wabah covid menghilan...   \n",
       "2  pemprov papua naikkan status jadi tanggap daru...   \n",
       "3            covid belum nyampe prigen mbak hmm hoax   \n",
       "4  nyuruh orang pintar lu aja togog itu kerumunan...   \n",
       "5    pikir balik byk mnde plk nk setelkn lepas covid   \n",
       "6  selamat pagi hari jumat jumat keempat di kala ...   \n",
       "7  hikmah di balik musibah covid smg para pejabat...   \n",
       "8  cegah covid beserta jajaran polsek kuranji mel...   \n",
       "9  ya allah kami memohon pada mu perkenankanlah d...   \n",
       "\n",
       "                                       ProcessedText  \n",
       "0  cegah mata rantai covid kita rumah hingga hari...  \n",
       "1  aku mohon yaallah moga wabah covid hilang rama...  \n",
       "2  pemprov papua naik status jadi tanggap darurat...  \n",
       "3                  covid nyampe prigen mbak hmm hoax  \n",
       "4  nyuruh orang pintar lu aja togog kerumun orang...  \n",
       "5    pikir balik byk mnde plk nk setelkn lepas covid  \n",
       "6  selamat pagi hari jumat jumat empat kala pande...  \n",
       "7  hikmah balik musibah covid smg jabat perintah ...  \n",
       "8  cegah covid serta jajar polsek ranji laku aksi...  \n",
       "9  allah mohon mu kenan doa doa rana sungguh engk...  "
      ]
     },
     "execution_count": 7,
     "metadata": {},
     "output_type": "execute_result"
    }
   ],
   "source": [
    "dataset.head(10) #menampilkan 10 baris pertama "
   ]
  },
  {
   "cell_type": "code",
   "execution_count": 12,
   "id": "08454850-a083-4af0-811f-1326c6a5ba68",
   "metadata": {},
   "outputs": [],
   "source": [
    "# Memastikan semua data dalam kolom 'ProcessedText' bertipe string\n",
    "dataset_feature = dataset['ProcessedText'].astype(str)"
   ]
  },
  {
   "cell_type": "code",
   "execution_count": 13,
   "id": "9d01e26e-232a-4558-98c6-be5c0a6dba09",
   "metadata": {},
   "outputs": [],
   "source": [
    "dataset_label = dataset['Sentimen']"
   ]
  },
  {
   "cell_type": "code",
   "execution_count": 14,
   "id": "ef62c580-4f6e-43cf-8ecb-6b49167ea7f6",
   "metadata": {},
   "outputs": [
    {
     "data": {
      "text/plain": [
       "0      cegah mata rantai covid kita rumah hingga hari...\n",
       "1      aku mohon yaallah moga wabah covid hilang rama...\n",
       "2      pemprov papua naik status jadi tanggap darurat...\n",
       "3                      covid nyampe prigen mbak hmm hoax\n",
       "4      nyuruh orang pintar lu aja togog kerumun orang...\n",
       "                             ...                        \n",
       "897    seluruh negara dunia alami masa sulit covid ra...\n",
       "898    covid skripsi disaster selesai mau bgt bljr ma...\n",
       "899    malam projek benda bincang malam fb satu belia...\n",
       "900                          pontang panting koyak covid\n",
       "901    masalah sekarang isu jangkit covid alaaaa bosa...\n",
       "Name: ProcessedText, Length: 902, dtype: object"
      ]
     },
     "execution_count": 14,
     "metadata": {},
     "output_type": "execute_result"
    }
   ],
   "source": [
    "dataset_feature"
   ]
  },
  {
   "cell_type": "code",
   "execution_count": 15,
   "id": "0e5e654a-30b1-4714-8921-dc13404cddeb",
   "metadata": {},
   "outputs": [
    {
     "data": {
      "text/plain": [
       "0      1.0\n",
       "1      1.0\n",
       "2      1.0\n",
       "3      0.0\n",
       "4     -1.0\n",
       "      ... \n",
       "897    1.0\n",
       "898    1.0\n",
       "899    0.0\n",
       "900   -1.0\n",
       "901   -1.0\n",
       "Name: Sentimen, Length: 902, dtype: float64"
      ]
     },
     "execution_count": 15,
     "metadata": {},
     "output_type": "execute_result"
    }
   ],
   "source": [
    "dataset_label"
   ]
  },
  {
   "cell_type": "markdown",
   "id": "7d7be16b-9dbb-4357-a844-33966d3a75de",
   "metadata": {},
   "source": [
    "BOW"
   ]
  },
  {
   "cell_type": "code",
   "execution_count": 16,
   "id": "b54152c6-a0af-4691-9042-8846783f3dbd",
   "metadata": {},
   "outputs": [],
   "source": [
    "# Mengimpor CountVectorizer dari sklearn untuk mengubah teks menjadi representasi numerik\n",
    "from sklearn.feature_extraction.text import CountVectorizer"
   ]
  },
  {
   "cell_type": "code",
   "execution_count": 17,
   "id": "2bd5802e-b35d-4e06-8d67-c0b1d00777b8",
   "metadata": {},
   "outputs": [],
   "source": [
    "vectorizer = CountVectorizer()"
   ]
  },
  {
   "cell_type": "code",
   "execution_count": 18,
   "id": "91caa225-f885-46f6-9e78-c1249bfcff27",
   "metadata": {},
   "outputs": [],
   "source": [
    "X = vectorizer.fit_transform(dataset_feature)"
   ]
  },
  {
   "cell_type": "code",
   "execution_count": 22,
   "id": "82a20cbe-ed98-44e6-ad91-e6a543e33abe",
   "metadata": {},
   "outputs": [
    {
     "name": "stdout",
     "output_type": "stream",
     "text": [
      "['aa' 'aamiin' 'aamiingimana' ... 'zmn' 'zona' 'zone']\n"
     ]
    }
   ],
   "source": [
    "print(vectorizer.get_feature_names_out())"
   ]
  },
  {
   "cell_type": "code",
   "execution_count": 23,
   "id": "3772514e-5d10-441d-adf3-41c79bacccea",
   "metadata": {},
   "outputs": [
    {
     "name": "stdout",
     "output_type": "stream",
     "text": [
      "[[0 0 0 ... 0 0 0]\n",
      " [0 0 0 ... 0 0 0]\n",
      " [0 0 0 ... 0 0 0]\n",
      " ...\n",
      " [0 0 0 ... 0 0 0]\n",
      " [0 0 0 ... 0 0 0]\n",
      " [0 0 0 ... 0 0 0]]\n"
     ]
    }
   ],
   "source": [
    "print(X.toarray())"
   ]
  },
  {
   "cell_type": "code",
   "execution_count": 26,
   "id": "23e900a9-5658-403a-84df-24a3731fddb5",
   "metadata": {},
   "outputs": [],
   "source": [
    "vectorizer2 = CountVectorizer(analyzer='word', ngram_range=(2,2))"
   ]
  },
  {
   "cell_type": "code",
   "execution_count": 27,
   "id": "fc9356d9-cbc2-4386-8b5d-020ab9d6ffe6",
   "metadata": {},
   "outputs": [],
   "source": [
    "X2 = vectorizer2.fit_transform(dataset_feature)"
   ]
  },
  {
   "cell_type": "code",
   "execution_count": 28,
   "id": "cedd8b73-e395-4d39-83f8-af4314ab51ac",
   "metadata": {},
   "outputs": [
    {
     "name": "stdout",
     "output_type": "stream",
     "text": [
      "['aa warga' 'aamiin aamiin' 'aamiin gimana' ... 'zmn pkp' 'zona hijau'\n",
      " 'zone covid']\n"
     ]
    }
   ],
   "source": [
    "print(vectorizer2.get_feature_names_out())"
   ]
  },
  {
   "cell_type": "code",
   "execution_count": 29,
   "id": "964677d2-0f94-4697-b239-8c8c56cb1eaf",
   "metadata": {},
   "outputs": [
    {
     "name": "stdout",
     "output_type": "stream",
     "text": [
      "[[0 0 0 ... 0 0 0]\n",
      " [0 0 0 ... 0 0 0]\n",
      " [0 0 0 ... 0 0 0]\n",
      " ...\n",
      " [0 0 0 ... 0 0 0]\n",
      " [0 0 0 ... 0 0 0]\n",
      " [0 0 0 ... 0 0 0]]\n"
     ]
    }
   ],
   "source": [
    "print(X2.toarray())"
   ]
  },
  {
   "cell_type": "markdown",
   "id": "ed0c9069-0512-45a0-8485-fdf95c431102",
   "metadata": {},
   "source": [
    "SIMULASI CORPUS"
   ]
  },
  {
   "cell_type": "code",
   "execution_count": 30,
   "id": "54e38066-67bb-482d-8b5c-978efe8fd60c",
   "metadata": {},
   "outputs": [],
   "source": [
    "corpus = [\n",
    "    'Perawatan kulit yang baik dapat meningkatkan kesehatan dan penampilan kulit.',\n",
    "    'Penting untuk memilih produk skincare yang sesuai dengan jenis kulit.',\n",
    "    'Pembersihan wajah secara rutin adalah langkah awal dalam perawatan kulit.',\n",
    "    'Sunscreen sangat penting untuk melindungi kulit dari paparan sinar UV.',\n",
    "    'Serum vitamin C dapat membantu mencerahkan kulit dan mengurangi noda hitam.',\n",
    "    'Moisturizer berfungsi menjaga kelembapan kulit sepanjang hari.',\n",
    "    'Exfoliating membantu mengangkat sel-sel kulit mati dan membuat kulit tampak lebih segar.',\n",
    "    'Penggunaan masker wajah dapat memberikan nutrisi tambahan bagi kulit.'\n",
    "]"
   ]
  },
  {
   "cell_type": "code",
   "execution_count": 31,
   "id": "4c5d61f5-d999-4412-84b2-f0004240cd2e",
   "metadata": {},
   "outputs": [],
   "source": [
    "vectorizer = CountVectorizer()"
   ]
  },
  {
   "cell_type": "code",
   "execution_count": 32,
   "id": "b89d0047-7ec0-4f5e-bb7a-5de556aa802a",
   "metadata": {},
   "outputs": [],
   "source": [
    "Z = vectorizer.fit_transform(corpus)"
   ]
  },
  {
   "cell_type": "code",
   "execution_count": 33,
   "id": "af9d52b4-9f86-406c-b4f6-c0796c9617af",
   "metadata": {},
   "outputs": [
    {
     "data": {
      "text/plain": [
       "array(['adalah', 'awal', 'bagi', 'baik', 'berfungsi', 'dalam', 'dan',\n",
       "       'dapat', 'dari', 'dengan', 'exfoliating', 'hari', 'hitam', 'jenis',\n",
       "       'kelembapan', 'kesehatan', 'kulit', 'langkah', 'lebih', 'masker',\n",
       "       'mati', 'melindungi', 'membantu', 'memberikan', 'membuat',\n",
       "       'memilih', 'mencerahkan', 'mengangkat', 'mengurangi',\n",
       "       'meningkatkan', 'menjaga', 'moisturizer', 'noda', 'nutrisi',\n",
       "       'paparan', 'pembersihan', 'penampilan', 'penggunaan', 'penting',\n",
       "       'perawatan', 'produk', 'rutin', 'sangat', 'secara', 'segar', 'sel',\n",
       "       'sepanjang', 'serum', 'sesuai', 'sinar', 'skincare', 'sunscreen',\n",
       "       'tambahan', 'tampak', 'untuk', 'uv', 'vitamin', 'wajah', 'yang'],\n",
       "      dtype=object)"
      ]
     },
     "execution_count": 33,
     "metadata": {},
     "output_type": "execute_result"
    }
   ],
   "source": [
    "vectorizer.get_feature_names_out()"
   ]
  },
  {
   "cell_type": "code",
   "execution_count": 34,
   "id": "7ed57f86-b113-43cb-a37c-769f2f61a242",
   "metadata": {},
   "outputs": [
    {
     "name": "stdout",
     "output_type": "stream",
     "text": [
      "[[0 0 0 1 0 0 1 1 0 0 0 0 0 0 0 1 2 0 0 0 0 0 0 0 0 0 0 0 0 1 0 0 0 0 0 0\n",
      "  1 0 0 1 0 0 0 0 0 0 0 0 0 0 0 0 0 0 0 0 0 0 1]\n",
      " [0 0 0 0 0 0 0 0 0 1 0 0 0 1 0 0 1 0 0 0 0 0 0 0 0 1 0 0 0 0 0 0 0 0 0 0\n",
      "  0 0 1 0 1 0 0 0 0 0 0 0 1 0 1 0 0 0 1 0 0 0 1]\n",
      " [1 1 0 0 0 1 0 0 0 0 0 0 0 0 0 0 1 1 0 0 0 0 0 0 0 0 0 0 0 0 0 0 0 0 0 1\n",
      "  0 0 0 1 0 1 0 1 0 0 0 0 0 0 0 0 0 0 0 0 0 1 0]\n",
      " [0 0 0 0 0 0 0 0 1 0 0 0 0 0 0 0 1 0 0 0 0 1 0 0 0 0 0 0 0 0 0 0 0 0 1 0\n",
      "  0 0 1 0 0 0 1 0 0 0 0 0 0 1 0 1 0 0 1 1 0 0 0]\n",
      " [0 0 0 0 0 0 1 1 0 0 0 0 1 0 0 0 1 0 0 0 0 0 1 0 0 0 1 0 1 0 0 0 1 0 0 0\n",
      "  0 0 0 0 0 0 0 0 0 0 0 1 0 0 0 0 0 0 0 0 1 0 0]\n",
      " [0 0 0 0 1 0 0 0 0 0 0 1 0 0 1 0 1 0 0 0 0 0 0 0 0 0 0 0 0 0 1 1 0 0 0 0\n",
      "  0 0 0 0 0 0 0 0 0 0 1 0 0 0 0 0 0 0 0 0 0 0 0]\n",
      " [0 0 0 0 0 0 1 0 0 0 1 0 0 0 0 0 2 0 1 0 1 0 1 0 1 0 0 1 0 0 0 0 0 0 0 0\n",
      "  0 0 0 0 0 0 0 0 1 2 0 0 0 0 0 0 0 1 0 0 0 0 0]\n",
      " [0 0 1 0 0 0 0 1 0 0 0 0 0 0 0 0 1 0 0 1 0 0 0 1 0 0 0 0 0 0 0 0 0 1 0 0\n",
      "  0 1 0 0 0 0 0 0 0 0 0 0 0 0 0 0 1 0 0 0 0 1 0]]\n"
     ]
    }
   ],
   "source": [
    "print(Z.toarray())"
   ]
  },
  {
   "cell_type": "code",
   "execution_count": 35,
   "id": "1c2bcf87-3fcb-4152-b643-c0293beb886d",
   "metadata": {},
   "outputs": [],
   "source": [
    "vectorizer2 = CountVectorizer(analyzer='word', ngram_range=(2, 2))"
   ]
  },
  {
   "cell_type": "code",
   "execution_count": 36,
   "id": "6beb694f-3c42-4152-b26f-f7bac1d18064",
   "metadata": {},
   "outputs": [],
   "source": [
    "Z2 = vectorizer2.fit_transform(corpus)"
   ]
  },
  {
   "cell_type": "code",
   "execution_count": 37,
   "id": "161612bc-3e86-4dd8-860d-89902e906112",
   "metadata": {},
   "outputs": [
    {
     "data": {
      "text/plain": [
       "array(['adalah langkah', 'awal dalam', 'bagi kulit', 'baik dapat',\n",
       "       'berfungsi menjaga', 'dalam perawatan', 'dan membuat',\n",
       "       'dan mengurangi', 'dan penampilan', 'dapat membantu',\n",
       "       'dapat memberikan', 'dapat meningkatkan', 'dari paparan',\n",
       "       'dengan jenis', 'exfoliating membantu', 'jenis kulit',\n",
       "       'kelembapan kulit', 'kesehatan dan', 'kulit dan', 'kulit dari',\n",
       "       'kulit mati', 'kulit sepanjang', 'kulit tampak', 'kulit yang',\n",
       "       'langkah awal', 'lebih segar', 'masker wajah', 'mati dan',\n",
       "       'melindungi kulit', 'membantu mencerahkan', 'membantu mengangkat',\n",
       "       'memberikan nutrisi', 'membuat kulit', 'memilih produk',\n",
       "       'mencerahkan kulit', 'mengangkat sel', 'mengurangi noda',\n",
       "       'meningkatkan kesehatan', 'menjaga kelembapan',\n",
       "       'moisturizer berfungsi', 'noda hitam', 'nutrisi tambahan',\n",
       "       'paparan sinar', 'pembersihan wajah', 'penampilan kulit',\n",
       "       'penggunaan masker', 'penting untuk', 'perawatan kulit',\n",
       "       'produk skincare', 'rutin adalah', 'sangat penting',\n",
       "       'secara rutin', 'sel kulit', 'sel sel', 'sepanjang hari',\n",
       "       'serum vitamin', 'sesuai dengan', 'sinar uv', 'skincare yang',\n",
       "       'sunscreen sangat', 'tambahan bagi', 'tampak lebih',\n",
       "       'untuk melindungi', 'untuk memilih', 'vitamin dapat',\n",
       "       'wajah dapat', 'wajah secara', 'yang baik', 'yang sesuai'],\n",
       "      dtype=object)"
      ]
     },
     "execution_count": 37,
     "metadata": {},
     "output_type": "execute_result"
    }
   ],
   "source": [
    "vectorizer2.get_feature_names_out()"
   ]
  },
  {
   "cell_type": "code",
   "execution_count": 38,
   "id": "4887a287-2e99-4694-a320-ef12fb0f5fbd",
   "metadata": {},
   "outputs": [
    {
     "name": "stdout",
     "output_type": "stream",
     "text": [
      "[[0 0 0 1 0 0 0 0 1 0 0 1 0 0 0 0 0 1 0 0 0 0 0 1 0 0 0 0 0 0 0 0 0 0 0 0\n",
      "  0 1 0 0 0 0 0 0 1 0 0 1 0 0 0 0 0 0 0 0 0 0 0 0 0 0 0 0 0 0 0 1 0]\n",
      " [0 0 0 0 0 0 0 0 0 0 0 0 0 1 0 1 0 0 0 0 0 0 0 0 0 0 0 0 0 0 0 0 0 1 0 0\n",
      "  0 0 0 0 0 0 0 0 0 0 1 0 1 0 0 0 0 0 0 0 1 0 1 0 0 0 0 1 0 0 0 0 1]\n",
      " [1 1 0 0 0 1 0 0 0 0 0 0 0 0 0 0 0 0 0 0 0 0 0 0 1 0 0 0 0 0 0 0 0 0 0 0\n",
      "  0 0 0 0 0 0 0 1 0 0 0 1 0 1 0 1 0 0 0 0 0 0 0 0 0 0 0 0 0 0 1 0 0]\n",
      " [0 0 0 0 0 0 0 0 0 0 0 0 1 0 0 0 0 0 0 1 0 0 0 0 0 0 0 0 1 0 0 0 0 0 0 0\n",
      "  0 0 0 0 0 0 1 0 0 0 1 0 0 0 1 0 0 0 0 0 0 1 0 1 0 0 1 0 0 0 0 0 0]\n",
      " [0 0 0 0 0 0 0 1 0 1 0 0 0 0 0 0 0 0 1 0 0 0 0 0 0 0 0 0 0 1 0 0 0 0 1 0\n",
      "  1 0 0 0 1 0 0 0 0 0 0 0 0 0 0 0 0 0 0 1 0 0 0 0 0 0 0 0 1 0 0 0 0]\n",
      " [0 0 0 0 1 0 0 0 0 0 0 0 0 0 0 0 1 0 0 0 0 1 0 0 0 0 0 0 0 0 0 0 0 0 0 0\n",
      "  0 0 1 1 0 0 0 0 0 0 0 0 0 0 0 0 0 0 1 0 0 0 0 0 0 0 0 0 0 0 0 0 0]\n",
      " [0 0 0 0 0 0 1 0 0 0 0 0 0 0 1 0 0 0 0 0 1 0 1 0 0 1 0 1 0 0 1 0 1 0 0 1\n",
      "  0 0 0 0 0 0 0 0 0 0 0 0 0 0 0 0 1 1 0 0 0 0 0 0 0 1 0 0 0 0 0 0 0]\n",
      " [0 0 1 0 0 0 0 0 0 0 1 0 0 0 0 0 0 0 0 0 0 0 0 0 0 0 1 0 0 0 0 1 0 0 0 0\n",
      "  0 0 0 0 0 1 0 0 0 1 0 0 0 0 0 0 0 0 0 0 0 0 0 0 1 0 0 0 0 1 0 0 0]]\n"
     ]
    }
   ],
   "source": [
    "print(Z2.toarray())"
   ]
  },
  {
   "cell_type": "code",
   "execution_count": null,
   "id": "110e9fc2-eb8f-442a-a6e2-962f26bbe6f5",
   "metadata": {},
   "outputs": [],
   "source": []
  }
 ],
 "metadata": {
  "kernelspec": {
   "display_name": "Python 3 (ipykernel)",
   "language": "python",
   "name": "python3"
  },
  "language_info": {
   "codemirror_mode": {
    "name": "ipython",
    "version": 3
   },
   "file_extension": ".py",
   "mimetype": "text/x-python",
   "name": "python",
   "nbconvert_exporter": "python",
   "pygments_lexer": "ipython3",
   "version": "3.11.7"
  }
 },
 "nbformat": 4,
 "nbformat_minor": 5
}
