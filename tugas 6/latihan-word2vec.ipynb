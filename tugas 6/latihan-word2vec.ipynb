{
 "cells": [
  {
   "cell_type": "code",
   "execution_count": 1,
   "id": "de2d4c7d-d55a-4c7d-9da3-1453a9d154b6",
   "metadata": {},
   "outputs": [
    {
     "name": "stdout",
     "output_type": "stream",
     "text": [
      "[0 0 1 0 0 0]\n",
      "[[0.37454012 0.95071431 0.73199394]\n",
      " [0.59865848 0.15601864 0.15599452]\n",
      " [0.05808361 0.86617615 0.60111501]\n",
      " [0.70807258 0.02058449 0.96990985]\n",
      " [0.83244264 0.21233911 0.18182497]\n",
      " [0.18340451 0.30424224 0.52475643]]\n",
      "[0.05808361 0.86617615 0.60111501]\n",
      "[[0.43194502 0.29122914 0.61185289 0.13949386 0.29214465 0.36636184]\n",
      " [0.45606998 0.78517596 0.19967378 0.51423444 0.59241457 0.04645041]\n",
      " [0.60754485 0.17052412 0.06505159 0.94888554 0.96563203 0.80839735]]\n",
      "[0.7853302  0.79952094 0.24759478 1.02390925 1.1105601  0.54745364]\n"
     ]
    }
   ],
   "source": [
    "import numpy as np\n",
    "np.random.seed(42)\n",
    "v_revenge = np.array([0,0,1,0,0,0]) #\"revenge\"\n",
    "print(v_revenge)\n",
    "#array([0, 0, 1, 0, 0, 0])\n",
    "weight = np.random.random_sample((6,3))\n",
    "print(weight)\n",
    "# array([[ 0.43194502,  0.29122914,  0.61185289],\n",
    "#        [ 0.13949386,  0.29214465,  0.36636184],\n",
    "#        [ 0.45606998,  0.78517596,  0.19967378],\n",
    "#        [ 0.51423444,  0.59241457,  0.04645041],\n",
    "#        [ 0.60754485,  0.17052412,  0.06505159],\n",
    "#        [ 0.94888554,  0.96563203,  0.80839735]])\n",
    "\n",
    "hidden_layer_sg = np.dot(v_revenge,weight)\n",
    "print(hidden_layer_sg)\n",
    "#array([ 0.45606998,  0.78517596,  0.19967378])\n",
    "weight_prime = np.random.random_sample((3,6))\n",
    "print(weight_prime)\n",
    "#array([[ 0.30461377, 0.09767211, 0.68423303, 0.44015249, 0.12203823, 0.49517691],\n",
    "       # [ 0.03438852, 0.9093204, 0.25877998, 0.66252228, 0.31171108,      0.52006802],\n",
    "       # [ 0.54671028, 0.18485446, 0.96958463, 0.77513282, 0.93949894,    0.89482735]])\n",
    "o_the = np.dot(hidden_layer_sg, weight_prime)\n",
    "print(o_the)\n",
    "#array([ 0.27508995, 0.79543243, 0.7088466, 0.87571061, 0.48799933, 0.8128538 ])"
   ]
  },
  {
   "cell_type": "code",
   "execution_count": 2,
   "id": "5dcbf04e-1b2e-4172-a484-19272117fd11",
   "metadata": {},
   "outputs": [
    {
     "name": "stdout",
     "output_type": "stream",
     "text": [
      "[0 0 1 0 0 0]\n",
      "[0.05808361 0.86617615 0.60111501]\n",
      "[0.7853302  0.79952094 0.24759478 1.02390925 1.1105601  0.54745364]\n"
     ]
    }
   ],
   "source": [
    "v_the = np.array([0,0,1,0,0,0]) #\"the\"\n",
    "print(v_the)\n",
    "#array([1, 0, 0, 0, 0, 0])\n",
    "#weight = menggunakan weight yang sama dengan ilustrasi pada Skip-Gram\n",
    "hidden_layer_cbow = np.dot(v_the,weight)\n",
    "print(hidden_layer_cbow)\n",
    "#array([0.43194502, 0.29122914, 0.61185289])\n",
    "#weight_prime = menggunakan weight_prime yang sama dengan ilustrasi pada Skip-Gram\n",
    "o_revenge = np.dot(hidden_layer_cbow, weight_prime)\n",
    "print(o_revenge)\n",
    "#array([0.47609761, 0.42011332, 0.96415848, 0.85733473, 0.7183283, 0.91285087])"
   ]
  },
  {
   "cell_type": "code",
   "execution_count": null,
   "id": "2b9f043b-7364-4ca7-a00a-19fcdb6c661f",
   "metadata": {},
   "outputs": [],
   "source": []
  }
 ],
 "metadata": {
  "kernelspec": {
   "display_name": "Python 3 (ipykernel)",
   "language": "python",
   "name": "python3"
  },
  "language_info": {
   "codemirror_mode": {
    "name": "ipython",
    "version": 3
   },
   "file_extension": ".py",
   "mimetype": "text/x-python",
   "name": "python",
   "nbconvert_exporter": "python",
   "pygments_lexer": "ipython3",
   "version": "3.11.7"
  }
 },
 "nbformat": 4,
 "nbformat_minor": 5
}
